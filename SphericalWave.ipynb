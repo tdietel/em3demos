{
 "cells": [
  {
   "cell_type": "markdown",
   "metadata": {},
   "source": [
    "# Isotropic spherical waves\n",
    "\n",
    "The retarded potential for a localised oscillationg charge distribution can be written as\n",
    "$$\n",
    "A^\\mu \n",
    "=\n",
    "\\frac{\\mu_0}{4\\pi}\n",
    "\\frac{e^{i(kr-\\omega t)}}{r}\n",
    "\\int \\left( \\dots \\right) d^3x'\n",
    "$$\n",
    "\n",
    "This retarded potential consists of a term $e^{i(kr-\\omega t)}/2$ that describes isotropic spherical wave, the integral term that gives the direction dependence of the potential and a constant normalization factor. \n",
    "\n",
    "In this notebook we will ignore the direction dependence and focus on the term for isotropic spherical waves. We notice that we can separate time and spatial distance from the source in the expression \n",
    "$$\n",
    "\\frac{e^{i(kr-\\omega t)}}{r}\n",
    "= \\frac{e^{ikr}}{r} \\, e^{-i\\omega t}\n",
    "$$\n",
    "\n",
    "The second term shows that we will have the potential will oscillate as a function of time.\n",
    "\n",
    "The first term shows an oscillation as a function of the distance $r$, attenuated by a factor $1/r$. The dependence on only the distance, and not individual coordinates $x,y,z$ shows that we are dealing with an isotropic behaviour, i.e. we expect the same potential in every direction. The attenuation factor $1/r$ will reduce the amplitude for a large distances. In the end, this factor ensures that the energy passing through a sphere with radius $r$ will be independent of $r$."
   ]
  },
  {
   "cell_type": "code",
   "execution_count": null,
   "metadata": {},
   "outputs": [],
   "source": [
    "# We start with the usual imports\n",
    "import numpy as np\n",
    "import matplotlib.pyplot as plt\n",
    "# from ipywidgets import interact, interactive, fixed, interact_manual\n",
    "import ipywidgets as ipw"
   ]
  },
  {
   "cell_type": "markdown",
   "metadata": {},
   "source": [
    "Next, we define a function for the spherical wave term:\n",
    "$$\n",
    "f=Re\\left( \\frac{e^{i(kr-\\omega t)}}{r} \\right)\n",
    "$$\n",
    "\n",
    "In physics, we are only interested in the real part, and we need to tell Python that we want to ignore the imaginary part. \n",
    "\n",
    "We only give it two spatial coordinates $x,y$, because we will focus on 2D visualisations of the function. But remember that spherical waves are isotropic 3-dimensional objects - you will have to imagine the third dimension yourself, or find a suitable visualization."
   ]
  },
  {
   "cell_type": "code",
   "execution_count": null,
   "metadata": {},
   "outputs": [],
   "source": [
    "def f(x,y,t,k,omega):\n",
    "    r = np.hypot(x,y)\n",
    "    return ( np.exp( 1j * (k*r - omega*t) ) / r).real"
   ]
  },
  {
   "cell_type": "markdown",
   "metadata": {},
   "source": [
    "In the next step we define a function that draws the function $f$ in the $x,y$ plane, at a time $t$ and for a wave number $k$. The frequency $\\omega$ is derived from $k$ assuming $c=1$."
   ]
  },
  {
   "cell_type": "code",
   "execution_count": null,
   "metadata": {},
   "outputs": [],
   "source": [
    "def draw(t,k=1.0):\n",
    "    x = np.arange(-10.0,10.0,0.1)\n",
    "    y = np.arange(-10.0,10.0,0.1)\n",
    "    X,Y = np.meshgrid(x, y) # grid of point\n",
    "\n",
    "    omega = k\n",
    "    Z = f(X, Y,t,k,omega) # evaluation of the function on the grid\n",
    "    im = plt.imshow(Z,vmin=-1,vmax=1, cmap = 'RdBu', extent = [np.min(x),np.max(x),np.min(y),np.max(y)]) # drawing the function\n",
    "    # im = plt.imshow(Z,cmap=cm.RdBu) # drawing the function\n",
    "    plt.colorbar(im) # adding the colobar on the right"
   ]
  },
  {
   "cell_type": "markdown",
   "metadata": {},
   "source": [
    "You can now draw the function $f$ (the \"potential\") for different times and wave numbers. Play around with it!"
   ]
  },
  {
   "cell_type": "code",
   "execution_count": null,
   "metadata": {},
   "outputs": [],
   "source": [
    "draw(0.0,4.0)"
   ]
  },
  {
   "cell_type": "markdown",
   "metadata": {},
   "source": [
    "You can try the interactive version."
   ]
  },
  {
   "cell_type": "code",
   "execution_count": null,
   "metadata": {},
   "outputs": [],
   "source": [
    "ipw.interact(draw, \n",
    "    t=ipw.FloatSlider(min=0.0,  max=5.0, step=0.1, value=0.0, continuous_update=False),\n",
    "    k=ipw.FloatSlider(min=0.25, max=5.0, step=0.25, value=1.0, continuous_update=False)\n",
    ")"
   ]
  },
  {
   "cell_type": "markdown",
   "metadata": {},
   "source": [
    "The final piece is work in progress... I am still trying to figure out how to animate the plot shown above to illustrate the propagation of the waves outwards. the problem is that I don't know how to animate with a time-step that is smaller than 1."
   ]
  },
  {
   "cell_type": "code",
   "execution_count": null,
   "metadata": {
    "scrolled": true
   },
   "outputs": [],
   "source": [
    "play = ipw.Play(\n",
    "     interval=200,\n",
    "    value=0,\n",
    "    min=0,\n",
    "    max=100,\n",
    "    step=1,\n",
    "    description=\"Press play\",\n",
    "    disabled=False\n",
    ")\n",
    "slider = ipw.IntSlider()\n",
    "ipw.jslink((play, 'value'), (slider, 'value'))\n",
    "ipw.interact(draw,t=slider,k=2.0)\n",
    "ipw.HBox([play, slider])"
   ]
  }
 ],
 "metadata": {
  "kernelspec": {
   "display_name": "Python 3",
   "language": "python",
   "name": "python3"
  },
  "language_info": {
   "codemirror_mode": {
    "name": "ipython",
    "version": 3
   },
   "file_extension": ".py",
   "mimetype": "text/x-python",
   "name": "python",
   "nbconvert_exporter": "python",
   "pygments_lexer": "ipython3",
   "version": "3.7.7"
  }
 },
 "nbformat": 4,
 "nbformat_minor": 4
}
